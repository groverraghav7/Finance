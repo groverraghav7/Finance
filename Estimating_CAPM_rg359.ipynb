{
  "nbformat": 4,
  "nbformat_minor": 0,
  "metadata": {
    "colab": {
      "provenance": []
    },
    "kernelspec": {
      "name": "python3",
      "display_name": "Python 3"
    },
    "language_info": {
      "name": "python"
    }
  },
  "cells": [
    {
      "cell_type": "code",
      "execution_count": null,
      "metadata": {
        "colab": {
          "base_uri": "https://localhost:8080/"
        },
        "id": "QDy9vk4yK4uT",
        "outputId": "33142edf-959d-4819-9e7f-b0da8dd5f0aa"
      },
      "outputs": [
        {
          "output_type": "stream",
          "name": "stdout",
          "text": [
            "Collecting pandasql\n",
            "  Downloading pandasql-0.7.3.tar.gz (26 kB)\n",
            "  Preparing metadata (setup.py) ... \u001b[?25l\u001b[?25hdone\n",
            "Requirement already satisfied: numpy in /usr/local/lib/python3.10/dist-packages (from pandasql) (1.25.2)\n",
            "Requirement already satisfied: pandas in /usr/local/lib/python3.10/dist-packages (from pandasql) (2.0.3)\n",
            "Requirement already satisfied: sqlalchemy in /usr/local/lib/python3.10/dist-packages (from pandasql) (2.0.29)\n",
            "Requirement already satisfied: python-dateutil>=2.8.2 in /usr/local/lib/python3.10/dist-packages (from pandas->pandasql) (2.8.2)\n",
            "Requirement already satisfied: pytz>=2020.1 in /usr/local/lib/python3.10/dist-packages (from pandas->pandasql) (2023.4)\n",
            "Requirement already satisfied: tzdata>=2022.1 in /usr/local/lib/python3.10/dist-packages (from pandas->pandasql) (2024.1)\n",
            "Requirement already satisfied: typing-extensions>=4.6.0 in /usr/local/lib/python3.10/dist-packages (from sqlalchemy->pandasql) (4.11.0)\n",
            "Requirement already satisfied: greenlet!=0.4.17 in /usr/local/lib/python3.10/dist-packages (from sqlalchemy->pandasql) (3.0.3)\n",
            "Requirement already satisfied: six>=1.5 in /usr/local/lib/python3.10/dist-packages (from python-dateutil>=2.8.2->pandas->pandasql) (1.16.0)\n",
            "Building wheels for collected packages: pandasql\n",
            "  Building wheel for pandasql (setup.py) ... \u001b[?25l\u001b[?25hdone\n",
            "  Created wheel for pandasql: filename=pandasql-0.7.3-py3-none-any.whl size=26771 sha256=0c5b5bd92916b1969886ce62f6ced11d087669a3345e863dace3561794c42980\n",
            "  Stored in directory: /root/.cache/pip/wheels/e9/bc/3a/8434bdcccf5779e72894a9b24fecbdcaf97940607eaf4bcdf9\n",
            "Successfully built pandasql\n",
            "Installing collected packages: pandasql\n",
            "Successfully installed pandasql-0.7.3\n"
          ]
        }
      ],
      "source": [
        "pip install pandasql\n"
      ]
    },
    {
      "cell_type": "code",
      "source": [
        "import pandasql as ps\n",
        "import statsmodels.api as sm\n",
        "import pandas as pd\n",
        "import os"
      ],
      "metadata": {
        "id": "SGNRVQhNMFUi"
      },
      "execution_count": null,
      "outputs": []
    },
    {
      "cell_type": "code",
      "source": [
        "# Set the file path for this exercise\n",
        "# basepath=r\"D:\\Teaching\\Duke\\2024\\Data\\Python\"\n",
        "# Import CRSP\n",
        "basepath=r\"/content/msf0820_short (1).dta\"\n",
        "rawmsf=pd.read_stata(os.path.join(basepath, r\"/content/msf0820_short (1).dta\"))\n",
        "# Some variables may contain upper-case letters.\n",
        "rawmsf.columns=map(str.lower, rawmsf.columns)\n",
        "rawmsf=rawmsf[['permno', 'ret', 'prc', 'date', 'vwretd']]\n",
        "# Clean some potential duplicate observations\n",
        "rawmsf=rawmsf.drop_duplicates(subset=['permno', 'date'])"
      ],
      "metadata": {
        "id": "_thSdwuaM_g8"
      },
      "execution_count": 20,
      "outputs": []
    },
    {
      "cell_type": "code",
      "source": [
        "# Align day windows\n",
        "def MergeDateWindow(dset, datevar, interval):\n",
        "  dset['begdate']=dset[datevar]-pd.Timedelta(days=interval)\n",
        "  dset['enddate']=dset[datevar]+pd.Timedelta(days=interval)\n",
        "  return dset\n",
        "\n",
        "rawmsf=MergeDateWindow(rawmsf, 'date', 5)"
      ],
      "metadata": {
        "id": "ePTwVpCdNaEw"
      },
      "execution_count": 21,
      "outputs": []
    },
    {
      "cell_type": "code",
      "source": [
        "rawff=pd.read_stata(os.path.join(basepath, r\"/content/ff0820.dta\"))\n",
        "\n",
        "crsp_ff_join='''select distinct a.*, b.mktrf, b.smb, b.hml, b.rf, b.dateff\n",
        "  from rawmsf as a left join rawff as b\n",
        "  on a.begdate<b.dateff and b.dateff<=a.enddate\n",
        "  order by permno, date'''\n",
        "\n",
        "msf=ps.sqldf(crsp_ff_join, locals())\n",
        "msf['retrf']=msf['ret']-msf['rf']"
      ],
      "metadata": {
        "id": "rnaGWhKNOcun"
      },
      "execution_count": 23,
      "outputs": []
    },
    {
      "cell_type": "code",
      "source": [
        "# Import Compustat\n",
        "rawccm=pd.read_stata(os.path.join(basepath, r\"/content/ccm0820_short.dta\"))\n",
        "rawccm.columns=map(str.lower, rawccm.columns)\n",
        "smallccm=rawccm[['fyear', 'gvkey', 'lpermno', 'at', 'sale', 'act', 'prcc_f',\n",
        "'csho', 'seq', 'ceq', 'datadate', 'tic', 'conm']]\n",
        "smallccm=smallccm.rename(columns={'lpermno':'permno'})\n",
        "smallccm=smallccm[(smallccm['fyear']==2018)]\n",
        "smallccm['beta_begdate']=smallccm['datadate']-pd.Timedelta(days=365*5)\n",
        "\n",
        "# Form a 5-year rolling window\n",
        "cond_join= '''select distinct a.gvkey, a.permno, a.fyear, a.tic, a.datadate,\n",
        "b.retrf, b.ret, b.vwretd, b.rf, b.vwretd-b.rf as mktrf, b.date\n",
        "  from smallccm as a left join msf as b\n",
        "  on a.permno=b.permno and a.beta_begdate<b.date and b.date<=a.datadate+5\n",
        "  order by a.permno, datadate, date'''\n",
        "ccm_5year = ps.sqldf(cond_join, locals())"
      ],
      "metadata": {
        "id": "ZJj2r0tBOoBG"
      },
      "execution_count": 25,
      "outputs": []
    },
    {
      "cell_type": "code",
      "source": [
        "# Need to have available retrf and mktrf\n",
        "ccm_5year=ccm_5year[(ccm_5year['retrf'].notnull()) &\n",
        "(ccm_5year['mktrf'].notnull())]\n",
        "\n",
        "def GroupRegress(dset, yvar, xvars):\n",
        "  Y = dset[yvar]\n",
        "  X = dset[xvars]\n",
        "  X['intercept'] = 1.\n",
        "  X = sm.add_constant(X)\n",
        "  result = sm.OLS(Y, X).fit()\n",
        "  stats= result.params\n",
        "  return stats"
      ],
      "metadata": {
        "id": "hyFRSMytQuwk"
      },
      "execution_count": 27,
      "outputs": []
    },
    {
      "cell_type": "code",
      "source": [
        "capm = ccm_5year.groupby(['permno', 'fyear']).apply(GroupRegress, 'retrf',\n",
        "['mktrf']).reset_index()\n",
        "capm = capm.rename(columns={'intercept':'alpha', 'mktrf':'beta'})\n",
        "ccm_beta=smallccm.merge(right=capm, how=\"left\", on=[\"permno\", 'fyear'])"
      ],
      "metadata": {
        "id": "sqLnSYXsRHKv"
      },
      "execution_count": 28,
      "outputs": []
    },
    {
      "cell_type": "code",
      "source": [
        "# See Apple and MSFT\n",
        "ticker_of_interest=['TGT', 'AAPL', 'WMT', 'MSFT']\n",
        "for ticker in ticker_of_interest:\n",
        "  beta=ccm_beta.loc[ccm_beta['tic']==ticker]['beta'].values\n",
        "  print('{}\\'s CAPM Beta is {}'.format(ticker, beta))"
      ],
      "metadata": {
        "id": "13tFhte5RStj",
        "colab": {
          "base_uri": "https://localhost:8080/"
        },
        "outputId": "8ed65fab-f046-4fdd-b8c7-39414bd7faf0"
      },
      "execution_count": 29,
      "outputs": [
        {
          "output_type": "stream",
          "name": "stdout",
          "text": [
            "TGT's CAPM Beta is [0.83997323]\n",
            "AAPL's CAPM Beta is [1.22845717]\n",
            "WMT's CAPM Beta is [0.3140959]\n",
            "MSFT's CAPM Beta is [0.78371831]\n"
          ]
        }
      ]
    },
    {
      "cell_type": "code",
      "source": [
        "# See Keurig Dr Pepper\n",
        "ticker_of_interest=['KDP']\n",
        "for ticker in ticker_of_interest:\n",
        "  beta=ccm_beta.loc[ccm_beta['tic']==ticker]['beta'].values\n",
        "  print('{}\\'s CAPM Beta is {}'.format(ticker, beta))"
      ],
      "metadata": {
        "id": "deSEaZ3n1EDa",
        "colab": {
          "base_uri": "https://localhost:8080/"
        },
        "outputId": "a051aa9f-3319-4f58-cd7f-47d64755d306"
      },
      "execution_count": 31,
      "outputs": [
        {
          "output_type": "stream",
          "name": "stdout",
          "text": [
            "KDP's CAPM Beta is [0.5949923]\n"
          ]
        }
      ]
    }
  ]
}